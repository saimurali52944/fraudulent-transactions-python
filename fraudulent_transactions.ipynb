{
  "nbformat": 4,
  "nbformat_minor": 0,
  "metadata": {
    "colab": {
      "provenance": []
    },
    "kernelspec": {
      "name": "python3",
      "display_name": "Python 3"
    },
    "language_info": {
      "name": "python"
    }
  },
  "cells": [
    {
      "cell_type": "markdown",
      "source": [
        "# **Internship Task**  submitted by\n",
        "\n",
        "### **Sai Murali Pirangi**\n",
        "\n",
        "### **Machine Learning Engineer**"
      ],
      "metadata": {
        "id": "RE6l5NdQ95bG"
      }
    },
    {
      "cell_type": "markdown",
      "source": [
        "### **Business Context**\n",
        "\n",
        "This case requires trainees to develop a model for predicting fraudulent transactions for a\n",
        "financial company and use insights from the model to develop an actionable plan. Data for the\n",
        "case is available in CSV format having 6362620 rows and 10 columns.\n",
        "Candidates can use whatever method they wish to develop their machine learning model.\n",
        "Following usual model development procedures, the model would be estimated on the\n",
        "calibration data and tested on the validation data. This case requires both statistical analysis and\n",
        "creativity/judgment. We recommend you spend time on both fine-tuning and interpreting the\n",
        "results of your machine learning model.\n"
      ],
      "metadata": {
        "id": "Zhm78vgk-GsP"
      }
    },
    {
      "cell_type": "markdown",
      "source": [
        "**Domain of the problem - Financial**"
      ],
      "metadata": {
        "id": "F8KUEgTmAOa7"
      }
    },
    {
      "cell_type": "markdown",
      "source": [
        "**Fraud.csv:-** This data set consist below attributes\n",
        "\n",
        "**step -** maps a unit of time in the real world. In this case 1 step is 1 hour of time. Total steps 744 (30 days simulation).\n",
        "\n",
        "**type -** CASH-IN, CASH-OUT, DEBIT, PAYMENT and TRANSFER.\n",
        "\n",
        "**amount -** amount of the transaction in local currency.\n",
        "\n",
        "**nameOrig -** customer who started the transaction\n",
        "\n",
        "**oldbalanceOrg -** initial balance before the transaction\n",
        "\n",
        "**newbalanceOrig -** new balance after the transaction\n",
        "\n",
        "**nameDest -** customer who is the recipient of the transaction\n",
        "\n",
        "**oldbalanceDest -** initial balance recipient before the transaction. Note that there is not information for customers that start with M (Merchants).\n",
        "\n",
        "**newbalanceDest -** new balance recipient after the transaction. Note that there is not information for customers that start with M (Merchants).\n",
        "\n",
        "**isFraud -** This is the transactions made by the fraudulent agents inside the simulation. In this specific dataset the fraudulent behavior of the agents aims to profit by taking control or customers accounts and try to empty the funds by transferring to another account and then cashing out of the system.\n",
        "\n",
        "**isFlaggedFraud -** The business model aims to control massive transfers from one account to another and flags illegal attempts. An illegal attempt in this dataset is an attempt to transfer more than 200.000 in a single transaction."
      ],
      "metadata": {
        "id": "hnFA-DUf_dwv"
      }
    },
    {
      "cell_type": "code",
      "execution_count": 23,
      "metadata": {
        "id": "5gn4AwSEj-Va"
      },
      "outputs": [],
      "source": [
        "import pandas as pd\n",
        "import numpy as np\n",
        "import matplotlib.pyplot as plt\n",
        "import seaborn as sns\n",
        "from sklearn.preprocessing import StandardScaler\n",
        "from sklearn.model_selection import train_test_split\n",
        "from sklearn.decomposition import PCA\n",
        "from sklearn.ensemble import AdaBoostClassifier\n",
        "from sklearn.linear_model import LogisticRegression\n",
        "from sklearn.ensemble import RandomForestClassifier\n",
        "from sklearn.model_selection import  GridSearchCV\n",
        "from sklearn.metrics import accuracy_score, precision_score, recall_score, f1_score, roc_auc_score, average_precision_score, confusion_matrix,roc_curve\n",
        "from pprint import pprint\n",
        "import warnings\n",
        "warnings.filterwarnings(\"ignore\")\n"
      ]
    },
    {
      "cell_type": "code",
      "source": [
        "train = pd.read_csv('/content/drive/MyDrive/Colab Notebooks/Fraud.csv')"
      ],
      "metadata": {
        "id": "H8i5OQfakJAX"
      },
      "execution_count": 24,
      "outputs": []
    },
    {
      "cell_type": "code",
      "source": [
        "train.head()"
      ],
      "metadata": {
        "colab": {
          "base_uri": "https://localhost:8080/",
          "height": 206
        },
        "id": "ZQHLPX1H_X5x",
        "outputId": "fe4a1a47-16cf-4bab-eb15-d14a8c81ee5a"
      },
      "execution_count": 25,
      "outputs": [
        {
          "output_type": "execute_result",
          "data": {
            "text/plain": [
              "   step      type    amount     nameOrig  oldbalanceOrg  newbalanceOrig  \\\n",
              "0     1   PAYMENT   9839.64  C1231006815       170136.0       160296.36   \n",
              "1     1   PAYMENT   1864.28  C1666544295        21249.0        19384.72   \n",
              "2     1  TRANSFER    181.00  C1305486145          181.0            0.00   \n",
              "3     1  CASH_OUT    181.00   C840083671          181.0            0.00   \n",
              "4     1   PAYMENT  11668.14  C2048537720        41554.0        29885.86   \n",
              "\n",
              "      nameDest  oldbalanceDest  newbalanceDest  isFraud  isFlaggedFraud  \n",
              "0  M1979787155             0.0             0.0        0               0  \n",
              "1  M2044282225             0.0             0.0        0               0  \n",
              "2   C553264065             0.0             0.0        1               0  \n",
              "3    C38997010         21182.0             0.0        1               0  \n",
              "4  M1230701703             0.0             0.0        0               0  "
            ],
            "text/html": [
              "\n",
              "\n",
              "  <div id=\"df-d4065a93-cf15-4324-9e00-526371e221e0\">\n",
              "    <div class=\"colab-df-container\">\n",
              "      <div>\n",
              "<style scoped>\n",
              "    .dataframe tbody tr th:only-of-type {\n",
              "        vertical-align: middle;\n",
              "    }\n",
              "\n",
              "    .dataframe tbody tr th {\n",
              "        vertical-align: top;\n",
              "    }\n",
              "\n",
              "    .dataframe thead th {\n",
              "        text-align: right;\n",
              "    }\n",
              "</style>\n",
              "<table border=\"1\" class=\"dataframe\">\n",
              "  <thead>\n",
              "    <tr style=\"text-align: right;\">\n",
              "      <th></th>\n",
              "      <th>step</th>\n",
              "      <th>type</th>\n",
              "      <th>amount</th>\n",
              "      <th>nameOrig</th>\n",
              "      <th>oldbalanceOrg</th>\n",
              "      <th>newbalanceOrig</th>\n",
              "      <th>nameDest</th>\n",
              "      <th>oldbalanceDest</th>\n",
              "      <th>newbalanceDest</th>\n",
              "      <th>isFraud</th>\n",
              "      <th>isFlaggedFraud</th>\n",
              "    </tr>\n",
              "  </thead>\n",
              "  <tbody>\n",
              "    <tr>\n",
              "      <th>0</th>\n",
              "      <td>1</td>\n",
              "      <td>PAYMENT</td>\n",
              "      <td>9839.64</td>\n",
              "      <td>C1231006815</td>\n",
              "      <td>170136.0</td>\n",
              "      <td>160296.36</td>\n",
              "      <td>M1979787155</td>\n",
              "      <td>0.0</td>\n",
              "      <td>0.0</td>\n",
              "      <td>0</td>\n",
              "      <td>0</td>\n",
              "    </tr>\n",
              "    <tr>\n",
              "      <th>1</th>\n",
              "      <td>1</td>\n",
              "      <td>PAYMENT</td>\n",
              "      <td>1864.28</td>\n",
              "      <td>C1666544295</td>\n",
              "      <td>21249.0</td>\n",
              "      <td>19384.72</td>\n",
              "      <td>M2044282225</td>\n",
              "      <td>0.0</td>\n",
              "      <td>0.0</td>\n",
              "      <td>0</td>\n",
              "      <td>0</td>\n",
              "    </tr>\n",
              "    <tr>\n",
              "      <th>2</th>\n",
              "      <td>1</td>\n",
              "      <td>TRANSFER</td>\n",
              "      <td>181.00</td>\n",
              "      <td>C1305486145</td>\n",
              "      <td>181.0</td>\n",
              "      <td>0.00</td>\n",
              "      <td>C553264065</td>\n",
              "      <td>0.0</td>\n",
              "      <td>0.0</td>\n",
              "      <td>1</td>\n",
              "      <td>0</td>\n",
              "    </tr>\n",
              "    <tr>\n",
              "      <th>3</th>\n",
              "      <td>1</td>\n",
              "      <td>CASH_OUT</td>\n",
              "      <td>181.00</td>\n",
              "      <td>C840083671</td>\n",
              "      <td>181.0</td>\n",
              "      <td>0.00</td>\n",
              "      <td>C38997010</td>\n",
              "      <td>21182.0</td>\n",
              "      <td>0.0</td>\n",
              "      <td>1</td>\n",
              "      <td>0</td>\n",
              "    </tr>\n",
              "    <tr>\n",
              "      <th>4</th>\n",
              "      <td>1</td>\n",
              "      <td>PAYMENT</td>\n",
              "      <td>11668.14</td>\n",
              "      <td>C2048537720</td>\n",
              "      <td>41554.0</td>\n",
              "      <td>29885.86</td>\n",
              "      <td>M1230701703</td>\n",
              "      <td>0.0</td>\n",
              "      <td>0.0</td>\n",
              "      <td>0</td>\n",
              "      <td>0</td>\n",
              "    </tr>\n",
              "  </tbody>\n",
              "</table>\n",
              "</div>\n",
              "      <button class=\"colab-df-convert\" onclick=\"convertToInteractive('df-d4065a93-cf15-4324-9e00-526371e221e0')\"\n",
              "              title=\"Convert this dataframe to an interactive table.\"\n",
              "              style=\"display:none;\">\n",
              "\n",
              "  <svg xmlns=\"http://www.w3.org/2000/svg\" height=\"24px\"viewBox=\"0 0 24 24\"\n",
              "       width=\"24px\">\n",
              "    <path d=\"M0 0h24v24H0V0z\" fill=\"none\"/>\n",
              "    <path d=\"M18.56 5.44l.94 2.06.94-2.06 2.06-.94-2.06-.94-.94-2.06-.94 2.06-2.06.94zm-11 1L8.5 8.5l.94-2.06 2.06-.94-2.06-.94L8.5 2.5l-.94 2.06-2.06.94zm10 10l.94 2.06.94-2.06 2.06-.94-2.06-.94-.94-2.06-.94 2.06-2.06.94z\"/><path d=\"M17.41 7.96l-1.37-1.37c-.4-.4-.92-.59-1.43-.59-.52 0-1.04.2-1.43.59L10.3 9.45l-7.72 7.72c-.78.78-.78 2.05 0 2.83L4 21.41c.39.39.9.59 1.41.59.51 0 1.02-.2 1.41-.59l7.78-7.78 2.81-2.81c.8-.78.8-2.07 0-2.86zM5.41 20L4 18.59l7.72-7.72 1.47 1.35L5.41 20z\"/>\n",
              "  </svg>\n",
              "      </button>\n",
              "\n",
              "\n",
              "\n",
              "    <div id=\"df-7e83ebe2-4483-4372-8af0-86e3ea5dc913\">\n",
              "      <button class=\"colab-df-quickchart\" onclick=\"quickchart('df-7e83ebe2-4483-4372-8af0-86e3ea5dc913')\"\n",
              "              title=\"Suggest charts.\"\n",
              "              style=\"display:none;\">\n",
              "\n",
              "<svg xmlns=\"http://www.w3.org/2000/svg\" height=\"24px\"viewBox=\"0 0 24 24\"\n",
              "     width=\"24px\">\n",
              "    <g>\n",
              "        <path d=\"M19 3H5c-1.1 0-2 .9-2 2v14c0 1.1.9 2 2 2h14c1.1 0 2-.9 2-2V5c0-1.1-.9-2-2-2zM9 17H7v-7h2v7zm4 0h-2V7h2v10zm4 0h-2v-4h2v4z\"/>\n",
              "    </g>\n",
              "</svg>\n",
              "      </button>\n",
              "    </div>\n",
              "\n",
              "<style>\n",
              "  .colab-df-quickchart {\n",
              "    background-color: #E8F0FE;\n",
              "    border: none;\n",
              "    border-radius: 50%;\n",
              "    cursor: pointer;\n",
              "    display: none;\n",
              "    fill: #1967D2;\n",
              "    height: 32px;\n",
              "    padding: 0 0 0 0;\n",
              "    width: 32px;\n",
              "  }\n",
              "\n",
              "  .colab-df-quickchart:hover {\n",
              "    background-color: #E2EBFA;\n",
              "    box-shadow: 0px 1px 2px rgba(60, 64, 67, 0.3), 0px 1px 3px 1px rgba(60, 64, 67, 0.15);\n",
              "    fill: #174EA6;\n",
              "  }\n",
              "\n",
              "  [theme=dark] .colab-df-quickchart {\n",
              "    background-color: #3B4455;\n",
              "    fill: #D2E3FC;\n",
              "  }\n",
              "\n",
              "  [theme=dark] .colab-df-quickchart:hover {\n",
              "    background-color: #434B5C;\n",
              "    box-shadow: 0px 1px 3px 1px rgba(0, 0, 0, 0.15);\n",
              "    filter: drop-shadow(0px 1px 2px rgba(0, 0, 0, 0.3));\n",
              "    fill: #FFFFFF;\n",
              "  }\n",
              "</style>\n",
              "\n",
              "    <script>\n",
              "      async function quickchart(key) {\n",
              "        const containerElement = document.querySelector('#' + key);\n",
              "        const charts = await google.colab.kernel.invokeFunction(\n",
              "            'suggestCharts', [key], {});\n",
              "      }\n",
              "    </script>\n",
              "\n",
              "      <script>\n",
              "\n",
              "function displayQuickchartButton(domScope) {\n",
              "  let quickchartButtonEl =\n",
              "    domScope.querySelector('#df-7e83ebe2-4483-4372-8af0-86e3ea5dc913 button.colab-df-quickchart');\n",
              "  quickchartButtonEl.style.display =\n",
              "    google.colab.kernel.accessAllowed ? 'block' : 'none';\n",
              "}\n",
              "\n",
              "        displayQuickchartButton(document);\n",
              "      </script>\n",
              "      <style>\n",
              "    .colab-df-container {\n",
              "      display:flex;\n",
              "      flex-wrap:wrap;\n",
              "      gap: 12px;\n",
              "    }\n",
              "\n",
              "    .colab-df-convert {\n",
              "      background-color: #E8F0FE;\n",
              "      border: none;\n",
              "      border-radius: 50%;\n",
              "      cursor: pointer;\n",
              "      display: none;\n",
              "      fill: #1967D2;\n",
              "      height: 32px;\n",
              "      padding: 0 0 0 0;\n",
              "      width: 32px;\n",
              "    }\n",
              "\n",
              "    .colab-df-convert:hover {\n",
              "      background-color: #E2EBFA;\n",
              "      box-shadow: 0px 1px 2px rgba(60, 64, 67, 0.3), 0px 1px 3px 1px rgba(60, 64, 67, 0.15);\n",
              "      fill: #174EA6;\n",
              "    }\n",
              "\n",
              "    [theme=dark] .colab-df-convert {\n",
              "      background-color: #3B4455;\n",
              "      fill: #D2E3FC;\n",
              "    }\n",
              "\n",
              "    [theme=dark] .colab-df-convert:hover {\n",
              "      background-color: #434B5C;\n",
              "      box-shadow: 0px 1px 3px 1px rgba(0, 0, 0, 0.15);\n",
              "      filter: drop-shadow(0px 1px 2px rgba(0, 0, 0, 0.3));\n",
              "      fill: #FFFFFF;\n",
              "    }\n",
              "  </style>\n",
              "\n",
              "      <script>\n",
              "        const buttonEl =\n",
              "          document.querySelector('#df-d4065a93-cf15-4324-9e00-526371e221e0 button.colab-df-convert');\n",
              "        buttonEl.style.display =\n",
              "          google.colab.kernel.accessAllowed ? 'block' : 'none';\n",
              "\n",
              "        async function convertToInteractive(key) {\n",
              "          const element = document.querySelector('#df-d4065a93-cf15-4324-9e00-526371e221e0');\n",
              "          const dataTable =\n",
              "            await google.colab.kernel.invokeFunction('convertToInteractive',\n",
              "                                                     [key], {});\n",
              "          if (!dataTable) return;\n",
              "\n",
              "          const docLinkHtml = 'Like what you see? Visit the ' +\n",
              "            '<a target=\"_blank\" href=https://colab.research.google.com/notebooks/data_table.ipynb>data table notebook</a>'\n",
              "            + ' to learn more about interactive tables.';\n",
              "          element.innerHTML = '';\n",
              "          dataTable['output_type'] = 'display_data';\n",
              "          await google.colab.output.renderOutput(dataTable, element);\n",
              "          const docLink = document.createElement('div');\n",
              "          docLink.innerHTML = docLinkHtml;\n",
              "          element.appendChild(docLink);\n",
              "        }\n",
              "      </script>\n",
              "    </div>\n",
              "  </div>\n"
            ]
          },
          "metadata": {},
          "execution_count": 25
        }
      ]
    },
    {
      "cell_type": "code",
      "source": [
        "train.tail()"
      ],
      "metadata": {
        "colab": {
          "base_uri": "https://localhost:8080/",
          "height": 206
        },
        "id": "Ovf1ri7G_X7v",
        "outputId": "f4abdd8f-c0c6-45ce-b40b-f7db3bc7bb71"
      },
      "execution_count": 26,
      "outputs": [
        {
          "output_type": "execute_result",
          "data": {
            "text/plain": [
              "         step      type      amount     nameOrig  oldbalanceOrg  \\\n",
              "6362615   743  CASH_OUT   339682.13   C786484425      339682.13   \n",
              "6362616   743  TRANSFER  6311409.28  C1529008245     6311409.28   \n",
              "6362617   743  CASH_OUT  6311409.28  C1162922333     6311409.28   \n",
              "6362618   743  TRANSFER   850002.52  C1685995037      850002.52   \n",
              "6362619   743  CASH_OUT   850002.52  C1280323807      850002.52   \n",
              "\n",
              "         newbalanceOrig     nameDest  oldbalanceDest  newbalanceDest  isFraud  \\\n",
              "6362615             0.0   C776919290            0.00       339682.13        1   \n",
              "6362616             0.0  C1881841831            0.00            0.00        1   \n",
              "6362617             0.0  C1365125890        68488.84      6379898.11        1   \n",
              "6362618             0.0  C2080388513            0.00            0.00        1   \n",
              "6362619             0.0   C873221189      6510099.11      7360101.63        1   \n",
              "\n",
              "         isFlaggedFraud  \n",
              "6362615               0  \n",
              "6362616               0  \n",
              "6362617               0  \n",
              "6362618               0  \n",
              "6362619               0  "
            ],
            "text/html": [
              "\n",
              "\n",
              "  <div id=\"df-fb59863d-d2ca-4a97-95b0-dfa48c856c60\">\n",
              "    <div class=\"colab-df-container\">\n",
              "      <div>\n",
              "<style scoped>\n",
              "    .dataframe tbody tr th:only-of-type {\n",
              "        vertical-align: middle;\n",
              "    }\n",
              "\n",
              "    .dataframe tbody tr th {\n",
              "        vertical-align: top;\n",
              "    }\n",
              "\n",
              "    .dataframe thead th {\n",
              "        text-align: right;\n",
              "    }\n",
              "</style>\n",
              "<table border=\"1\" class=\"dataframe\">\n",
              "  <thead>\n",
              "    <tr style=\"text-align: right;\">\n",
              "      <th></th>\n",
              "      <th>step</th>\n",
              "      <th>type</th>\n",
              "      <th>amount</th>\n",
              "      <th>nameOrig</th>\n",
              "      <th>oldbalanceOrg</th>\n",
              "      <th>newbalanceOrig</th>\n",
              "      <th>nameDest</th>\n",
              "      <th>oldbalanceDest</th>\n",
              "      <th>newbalanceDest</th>\n",
              "      <th>isFraud</th>\n",
              "      <th>isFlaggedFraud</th>\n",
              "    </tr>\n",
              "  </thead>\n",
              "  <tbody>\n",
              "    <tr>\n",
              "      <th>6362615</th>\n",
              "      <td>743</td>\n",
              "      <td>CASH_OUT</td>\n",
              "      <td>339682.13</td>\n",
              "      <td>C786484425</td>\n",
              "      <td>339682.13</td>\n",
              "      <td>0.0</td>\n",
              "      <td>C776919290</td>\n",
              "      <td>0.00</td>\n",
              "      <td>339682.13</td>\n",
              "      <td>1</td>\n",
              "      <td>0</td>\n",
              "    </tr>\n",
              "    <tr>\n",
              "      <th>6362616</th>\n",
              "      <td>743</td>\n",
              "      <td>TRANSFER</td>\n",
              "      <td>6311409.28</td>\n",
              "      <td>C1529008245</td>\n",
              "      <td>6311409.28</td>\n",
              "      <td>0.0</td>\n",
              "      <td>C1881841831</td>\n",
              "      <td>0.00</td>\n",
              "      <td>0.00</td>\n",
              "      <td>1</td>\n",
              "      <td>0</td>\n",
              "    </tr>\n",
              "    <tr>\n",
              "      <th>6362617</th>\n",
              "      <td>743</td>\n",
              "      <td>CASH_OUT</td>\n",
              "      <td>6311409.28</td>\n",
              "      <td>C1162922333</td>\n",
              "      <td>6311409.28</td>\n",
              "      <td>0.0</td>\n",
              "      <td>C1365125890</td>\n",
              "      <td>68488.84</td>\n",
              "      <td>6379898.11</td>\n",
              "      <td>1</td>\n",
              "      <td>0</td>\n",
              "    </tr>\n",
              "    <tr>\n",
              "      <th>6362618</th>\n",
              "      <td>743</td>\n",
              "      <td>TRANSFER</td>\n",
              "      <td>850002.52</td>\n",
              "      <td>C1685995037</td>\n",
              "      <td>850002.52</td>\n",
              "      <td>0.0</td>\n",
              "      <td>C2080388513</td>\n",
              "      <td>0.00</td>\n",
              "      <td>0.00</td>\n",
              "      <td>1</td>\n",
              "      <td>0</td>\n",
              "    </tr>\n",
              "    <tr>\n",
              "      <th>6362619</th>\n",
              "      <td>743</td>\n",
              "      <td>CASH_OUT</td>\n",
              "      <td>850002.52</td>\n",
              "      <td>C1280323807</td>\n",
              "      <td>850002.52</td>\n",
              "      <td>0.0</td>\n",
              "      <td>C873221189</td>\n",
              "      <td>6510099.11</td>\n",
              "      <td>7360101.63</td>\n",
              "      <td>1</td>\n",
              "      <td>0</td>\n",
              "    </tr>\n",
              "  </tbody>\n",
              "</table>\n",
              "</div>\n",
              "      <button class=\"colab-df-convert\" onclick=\"convertToInteractive('df-fb59863d-d2ca-4a97-95b0-dfa48c856c60')\"\n",
              "              title=\"Convert this dataframe to an interactive table.\"\n",
              "              style=\"display:none;\">\n",
              "\n",
              "  <svg xmlns=\"http://www.w3.org/2000/svg\" height=\"24px\"viewBox=\"0 0 24 24\"\n",
              "       width=\"24px\">\n",
              "    <path d=\"M0 0h24v24H0V0z\" fill=\"none\"/>\n",
              "    <path d=\"M18.56 5.44l.94 2.06.94-2.06 2.06-.94-2.06-.94-.94-2.06-.94 2.06-2.06.94zm-11 1L8.5 8.5l.94-2.06 2.06-.94-2.06-.94L8.5 2.5l-.94 2.06-2.06.94zm10 10l.94 2.06.94-2.06 2.06-.94-2.06-.94-.94-2.06-.94 2.06-2.06.94z\"/><path d=\"M17.41 7.96l-1.37-1.37c-.4-.4-.92-.59-1.43-.59-.52 0-1.04.2-1.43.59L10.3 9.45l-7.72 7.72c-.78.78-.78 2.05 0 2.83L4 21.41c.39.39.9.59 1.41.59.51 0 1.02-.2 1.41-.59l7.78-7.78 2.81-2.81c.8-.78.8-2.07 0-2.86zM5.41 20L4 18.59l7.72-7.72 1.47 1.35L5.41 20z\"/>\n",
              "  </svg>\n",
              "      </button>\n",
              "\n",
              "\n",
              "\n",
              "    <div id=\"df-222c31a2-1494-4529-816e-3754c021deec\">\n",
              "      <button class=\"colab-df-quickchart\" onclick=\"quickchart('df-222c31a2-1494-4529-816e-3754c021deec')\"\n",
              "              title=\"Suggest charts.\"\n",
              "              style=\"display:none;\">\n",
              "\n",
              "<svg xmlns=\"http://www.w3.org/2000/svg\" height=\"24px\"viewBox=\"0 0 24 24\"\n",
              "     width=\"24px\">\n",
              "    <g>\n",
              "        <path d=\"M19 3H5c-1.1 0-2 .9-2 2v14c0 1.1.9 2 2 2h14c1.1 0 2-.9 2-2V5c0-1.1-.9-2-2-2zM9 17H7v-7h2v7zm4 0h-2V7h2v10zm4 0h-2v-4h2v4z\"/>\n",
              "    </g>\n",
              "</svg>\n",
              "      </button>\n",
              "    </div>\n",
              "\n",
              "<style>\n",
              "  .colab-df-quickchart {\n",
              "    background-color: #E8F0FE;\n",
              "    border: none;\n",
              "    border-radius: 50%;\n",
              "    cursor: pointer;\n",
              "    display: none;\n",
              "    fill: #1967D2;\n",
              "    height: 32px;\n",
              "    padding: 0 0 0 0;\n",
              "    width: 32px;\n",
              "  }\n",
              "\n",
              "  .colab-df-quickchart:hover {\n",
              "    background-color: #E2EBFA;\n",
              "    box-shadow: 0px 1px 2px rgba(60, 64, 67, 0.3), 0px 1px 3px 1px rgba(60, 64, 67, 0.15);\n",
              "    fill: #174EA6;\n",
              "  }\n",
              "\n",
              "  [theme=dark] .colab-df-quickchart {\n",
              "    background-color: #3B4455;\n",
              "    fill: #D2E3FC;\n",
              "  }\n",
              "\n",
              "  [theme=dark] .colab-df-quickchart:hover {\n",
              "    background-color: #434B5C;\n",
              "    box-shadow: 0px 1px 3px 1px rgba(0, 0, 0, 0.15);\n",
              "    filter: drop-shadow(0px 1px 2px rgba(0, 0, 0, 0.3));\n",
              "    fill: #FFFFFF;\n",
              "  }\n",
              "</style>\n",
              "\n",
              "    <script>\n",
              "      async function quickchart(key) {\n",
              "        const containerElement = document.querySelector('#' + key);\n",
              "        const charts = await google.colab.kernel.invokeFunction(\n",
              "            'suggestCharts', [key], {});\n",
              "      }\n",
              "    </script>\n",
              "\n",
              "      <script>\n",
              "\n",
              "function displayQuickchartButton(domScope) {\n",
              "  let quickchartButtonEl =\n",
              "    domScope.querySelector('#df-222c31a2-1494-4529-816e-3754c021deec button.colab-df-quickchart');\n",
              "  quickchartButtonEl.style.display =\n",
              "    google.colab.kernel.accessAllowed ? 'block' : 'none';\n",
              "}\n",
              "\n",
              "        displayQuickchartButton(document);\n",
              "      </script>\n",
              "      <style>\n",
              "    .colab-df-container {\n",
              "      display:flex;\n",
              "      flex-wrap:wrap;\n",
              "      gap: 12px;\n",
              "    }\n",
              "\n",
              "    .colab-df-convert {\n",
              "      background-color: #E8F0FE;\n",
              "      border: none;\n",
              "      border-radius: 50%;\n",
              "      cursor: pointer;\n",
              "      display: none;\n",
              "      fill: #1967D2;\n",
              "      height: 32px;\n",
              "      padding: 0 0 0 0;\n",
              "      width: 32px;\n",
              "    }\n",
              "\n",
              "    .colab-df-convert:hover {\n",
              "      background-color: #E2EBFA;\n",
              "      box-shadow: 0px 1px 2px rgba(60, 64, 67, 0.3), 0px 1px 3px 1px rgba(60, 64, 67, 0.15);\n",
              "      fill: #174EA6;\n",
              "    }\n",
              "\n",
              "    [theme=dark] .colab-df-convert {\n",
              "      background-color: #3B4455;\n",
              "      fill: #D2E3FC;\n",
              "    }\n",
              "\n",
              "    [theme=dark] .colab-df-convert:hover {\n",
              "      background-color: #434B5C;\n",
              "      box-shadow: 0px 1px 3px 1px rgba(0, 0, 0, 0.15);\n",
              "      filter: drop-shadow(0px 1px 2px rgba(0, 0, 0, 0.3));\n",
              "      fill: #FFFFFF;\n",
              "    }\n",
              "  </style>\n",
              "\n",
              "      <script>\n",
              "        const buttonEl =\n",
              "          document.querySelector('#df-fb59863d-d2ca-4a97-95b0-dfa48c856c60 button.colab-df-convert');\n",
              "        buttonEl.style.display =\n",
              "          google.colab.kernel.accessAllowed ? 'block' : 'none';\n",
              "\n",
              "        async function convertToInteractive(key) {\n",
              "          const element = document.querySelector('#df-fb59863d-d2ca-4a97-95b0-dfa48c856c60');\n",
              "          const dataTable =\n",
              "            await google.colab.kernel.invokeFunction('convertToInteractive',\n",
              "                                                     [key], {});\n",
              "          if (!dataTable) return;\n",
              "\n",
              "          const docLinkHtml = 'Like what you see? Visit the ' +\n",
              "            '<a target=\"_blank\" href=https://colab.research.google.com/notebooks/data_table.ipynb>data table notebook</a>'\n",
              "            + ' to learn more about interactive tables.';\n",
              "          element.innerHTML = '';\n",
              "          dataTable['output_type'] = 'display_data';\n",
              "          await google.colab.output.renderOutput(dataTable, element);\n",
              "          const docLink = document.createElement('div');\n",
              "          docLink.innerHTML = docLinkHtml;\n",
              "          element.appendChild(docLink);\n",
              "        }\n",
              "      </script>\n",
              "    </div>\n",
              "  </div>\n"
            ]
          },
          "metadata": {},
          "execution_count": 26
        }
      ]
    },
    {
      "cell_type": "code",
      "source": [
        "train.shape"
      ],
      "metadata": {
        "colab": {
          "base_uri": "https://localhost:8080/"
        },
        "id": "nIhkwLN1_X_G",
        "outputId": "152efe09-7606-46fd-e022-a7c168120bf0"
      },
      "execution_count": 5,
      "outputs": [
        {
          "output_type": "execute_result",
          "data": {
            "text/plain": [
              "(6362620, 11)"
            ]
          },
          "metadata": {},
          "execution_count": 5
        }
      ]
    },
    {
      "cell_type": "code",
      "source": [
        "# Function to convert step to hour and day\n",
        "# def convert_step_to_hour(step):\n",
        "#     hour = (step - 1) % 24 + 1\n",
        "#     return hour\n",
        "\n",
        "# def convert_step_to_day(step):\n",
        "#     day = (step - 1) // 24 + 1\n",
        "#     return day\n",
        "\n",
        "# train['hour'] = train['step'].apply(convert_step_to_hour)\n",
        "# train['day'] = train['step'].apply(convert_step_to_day)\n"
      ],
      "metadata": {
        "id": "XhAgcLO04uwh"
      },
      "execution_count": 27,
      "outputs": []
    },
    {
      "cell_type": "markdown",
      "source": [
        "The provided data contains only hours, but obtaining the exact time and dates will enable us to build a more efficient model with a better understanding of temporal patterns and trends, leading to improved predictions and insights. Accurate timestamps can enhance data analysis, feature engineering, and time-based modeling, increasing the model's performance and overall effectiveness."
      ],
      "metadata": {
        "id": "fOAUyBEz8eKw"
      }
    },
    {
      "cell_type": "code",
      "source": [
        "train.dtypes"
      ],
      "metadata": {
        "colab": {
          "base_uri": "https://localhost:8080/"
        },
        "id": "f1xDbOCK_YBi",
        "outputId": "4f6e2576-e40a-4be0-effd-79e9e2a1be72"
      },
      "execution_count": 6,
      "outputs": [
        {
          "output_type": "execute_result",
          "data": {
            "text/plain": [
              "step                int64\n",
              "type               object\n",
              "amount            float64\n",
              "nameOrig           object\n",
              "oldbalanceOrg     float64\n",
              "newbalanceOrig    float64\n",
              "nameDest           object\n",
              "oldbalanceDest    float64\n",
              "newbalanceDest    float64\n",
              "isFraud             int64\n",
              "isFlaggedFraud      int64\n",
              "dtype: object"
            ]
          },
          "metadata": {},
          "execution_count": 6
        }
      ]
    },
    {
      "cell_type": "code",
      "source": [
        "train.duplicated(subset = None, keep = 'first').sum()\n",
        "# subset='None' Only consider certain columns for identifying duplicates, by default use all of the columns.\n",
        "# keep ='first' Mark duplicates as True except for the first occurrence."
      ],
      "metadata": {
        "colab": {
          "base_uri": "https://localhost:8080/"
        },
        "id": "V56cj62L_YEZ",
        "outputId": "247baeda-55c9-478f-fe3f-1b539ffe87c8"
      },
      "execution_count": 7,
      "outputs": [
        {
          "output_type": "execute_result",
          "data": {
            "text/plain": [
              "0"
            ]
          },
          "metadata": {},
          "execution_count": 7
        }
      ]
    },
    {
      "cell_type": "code",
      "source": [
        "# checking null values\n",
        "train.isnull().sum()"
      ],
      "metadata": {
        "colab": {
          "base_uri": "https://localhost:8080/"
        },
        "id": "bgnsq319_YHQ",
        "outputId": "5a167905-cef5-46b1-f2ae-9b270ba9446d"
      },
      "execution_count": 8,
      "outputs": [
        {
          "output_type": "execute_result",
          "data": {
            "text/plain": [
              "step              0\n",
              "type              0\n",
              "amount            0\n",
              "nameOrig          0\n",
              "oldbalanceOrg     0\n",
              "newbalanceOrig    0\n",
              "nameDest          0\n",
              "oldbalanceDest    0\n",
              "newbalanceDest    0\n",
              "isFraud           0\n",
              "isFlaggedFraud    0\n",
              "dtype: int64"
            ]
          },
          "metadata": {},
          "execution_count": 8
        }
      ]
    },
    {
      "cell_type": "code",
      "source": [
        "plt.figure(figsize=(8, 6))\n",
        "ax = sns.countplot(x=\"type\", hue=\"isFraud\", data=train)\n",
        "\n",
        "# Adding count labels on top of each bar\n",
        "for p in ax.patches:\n",
        "    height = p.get_height()\n",
        "    ax.text(p.get_x() + p.get_width() / 2., height + 3, f'{height}', ha=\"center\")\n",
        "\n",
        "# Adding title and labels\n",
        "plt.title(\"Count of each variable in 'type' based on 'isfraud'\")\n",
        "plt.xlabel(\"Type\")\n",
        "plt.ylabel(\"Count\")\n",
        "\n",
        "# Showing the plot\n",
        "plt.show()"
      ],
      "metadata": {
        "colab": {
          "base_uri": "https://localhost:8080/",
          "height": 564
        },
        "id": "FNoIRCZF_YJ0",
        "outputId": "988e92ee-7fff-435a-ad8a-39cce63099bd"
      },
      "execution_count": 9,
      "outputs": [
        {
          "output_type": "display_data",
          "data": {
            "text/plain": [
              "<Figure size 800x600 with 1 Axes>"
            ],
            "image/png": "[encoded data removed]"
          },
          "metadata": {}
        }
      ]
    },
    {
      "cell_type": "markdown",
      "source": [
        "Based on the information provided, it appears that the dataset contains around 6 million transactions, and out of those, 8312 transactions are labeled as fraud, specifically categorized as \"CASH_OUT\" and \"TRANSFER\" transactions. The objective of the project is to detect fraudulent transactions.\n",
        "\n",
        "However, there is a mention of data imbalance. Imbalanced data refers to a situation where one class (in this case, the fraud class) is significantly underrepresented compared to the other class(es) in the dataset. In this scenario, the number of non-fraudulent transactions is much larger than the number of fraudulent transactions.\n",
        "\n",
        "Data imbalance can present challenges in training machine learning models for fraud detection because the model may be biased towards the majority class, leading to poor detection performance for the minority class (fraudulent transactions)."
      ],
      "metadata": {
        "id": "wjy8KIUWAEdr"
      }
    },
    {
      "cell_type": "markdown",
      "source": [
        "Among the columns mentioned (\"step,\" \"nameOrig,\" and \"nameDest\"), the \"step\" column is significant due to its unique values, while \"nameOrig\" and \"nameDest\" are less significant compared to other columns. However, if we develop a model for each user, these columns can become more relevant for data filtering.\n",
        "\n",
        "The \"step\" column, being composed of unique values, is likely to provide valuable temporal information, enabling the model to capture time-dependent patterns in the data. Building individual models for each user allows us to consider user-specific behavior and preferences, which can further enhance the model's accuracy and effectiveness.\n",
        "\n",
        "While \"nameOrig\" and \"nameDest\" may be less significant overall, they can become more relevant when analyzing data at the user level. These columns likely represent user identifiers or account names, and understanding transaction patterns associated with specific users can aid in detecting anomalies and identifying potentially fraudulent activities unique to each user."
      ],
      "metadata": {
        "id": "PncJmKVDAJNR"
      }
    },
    {
      "cell_type": "code",
      "source": [
        "train.drop(['step','nameOrig','nameDest'],axis=1,inplace=True)"
      ],
      "metadata": {
        "id": "M03zeoeG_YPJ"
      },
      "execution_count": 44,
      "outputs": []
    },
    {
      "cell_type": "markdown",
      "source": [
        "Data division based on transaction types (e.g., \"CASH_IN,\" \"DEBIT,\" and \"PAYMENT\") reveals zero fraud cases. Balancing such subsets is inappropriate as there are no fraud instances within them. Artificially balancing data may introduce biases, leading the model to misclassify legitimate transactions as fraudulent. Imbalanced data challenges arise when fraud is rare. Avoiding artificial manipulation ensures preservation of real patterns."
      ],
      "metadata": {
        "id": "gbxYuKvYAMWH"
      }
    },
    {
      "cell_type": "code",
      "source": [
        "dataframe_names = []\n",
        "\n",
        "# Creating separate dataframes for each unique variable name in 'type'\n",
        "for value in train['type'].unique():\n",
        "    # Filtering rows based on the current 'value'\n",
        "    value_df = train[train['type'] == value].copy()\n",
        "\n",
        "    # Reseting the index of the dataframe\n",
        "    value_df.reset_index(drop=True, inplace=True)\n",
        "\n",
        "    # Deleting the 'type' column from the dataframe\n",
        "    value_df.drop(columns=['type'], inplace=True)\n",
        "\n",
        "    # Creating a dataframe variable name based on the 'value' (converting to lowercase and replacing spaces with underscores)\n",
        "    variable_name = value.replace(' ', '_').lower()\n",
        "\n",
        "    # Storing the filtered rows in the dataframe variable with the dynamically generated name\n",
        "    globals()[variable_name] = value_df\n",
        "\n",
        "\n",
        "    dataframe_names.append(variable_name)\n",
        "\n",
        "\n",
        "print(\"Dataframes created:\")\n",
        "print(dataframe_names)"
      ],
      "metadata": {
        "colab": {
          "base_uri": "https://localhost:8080/"
        },
        "id": "0r9yvcVE_YSV",
        "outputId": "4be3a1f4-a0a3-46a6-f96c-cd0a4176ad32"
      },
      "execution_count": 45,
      "outputs": [
        {
          "output_type": "stream",
          "name": "stdout",
          "text": [
            "Dataframes created:\n",
            "['payment', 'transfer', 'cash_out', 'debit', 'cash_in']\n"
          ]
        }
      ]
    },
    {
      "cell_type": "code",
      "source": [
        "sns.set(style=\"whitegrid\")\n",
        "\n",
        "# Creating the side-by-side count plots\n",
        "plt.figure(figsize=(12, 6))\n",
        "\n",
        "# Subplot for DataFrame 'cash_out'\n",
        "plt.subplot(1, 2, 1)\n",
        "ax_a = sns.countplot(x=\"isFraud\", data=cash_out)\n",
        "plt.title(\"DataFrame 'cash_out' - Count of 'isFraud'\")\n",
        "plt.xlabel(\"isFraud\")\n",
        "plt.ylabel(\"Count\")\n",
        "\n",
        "# Add count labels for DataFrame 'cash_out'\n",
        "for p in ax_a.patches:\n",
        "    height = p.get_height()\n",
        "    ax_a.text(p.get_x() + p.get_width() / 2., height + 3, f'{height}', ha=\"center\")\n",
        "\n",
        "# Subplot for DataFrame 'transfer'\n",
        "plt.subplot(1, 2, 2)\n",
        "ax_b = sns.countplot(x=\"isFraud\", data=transfer)\n",
        "plt.title(\"DataFrame 'transfer' - Count of 'isFraud'\")\n",
        "plt.xlabel(\"isFraud\")\n",
        "plt.ylabel(\"Count\")\n",
        "\n",
        "# Add count labels for DataFrame 'transfer'\n",
        "for p in ax_b.patches:\n",
        "    height = p.get_height()\n",
        "    ax_b.text(p.get_x() + p.get_width() / 2., height + 3, f'{height}', ha=\"center\")\n",
        "\n",
        "# Adjust layout and show the plots\n",
        "plt.tight_layout()\n",
        "plt.show()"
      ],
      "metadata": {
        "colab": {
          "base_uri": "https://localhost:8080/",
          "height": 601
        },
        "id": "LS3ZvLF7ATAP",
        "outputId": "d8a1aefe-3875-4e6e-e99b-affb97bf01b8"
      },
      "execution_count": 12,
      "outputs": [
        {
          "output_type": "display_data",
          "data": {
            "text/plain": [
              "<Figure size 1200x600 with 2 Axes>"
            ],
            "image/png": "[encoded data removed]"
          },
          "metadata": {}
        }
      ]
    },
    {
      "cell_type": "markdown",
      "source": [
        "The fraud alert cases are only presented in 'CASH_OUT' and 'TRANSFER' eventhouh there is a data imbalance in both the datasets , we should either balnce the dataset using the smote operations or we should give more weightage to the fraud cases because we need to identify the fraud alerts and low false positives are major identification"
      ],
      "metadata": {
        "id": "6n6poc_MAWEX"
      }
    },
    {
      "cell_type": "code",
      "source": [
        "scaling_list = ['amount', 'oldbalanceOrg' ,'newbalanceOrig','oldbalanceDest','newbalanceDest','isFlaggedFraud'] # add ,'hour','day' if using step\n",
        "scaler = StandardScaler()\n",
        "for column in scaling_list:\n",
        "    cash_out[column] = scaler.fit_transform(cash_out[[column]])\n",
        "    transfer[column] = scaler.transform(transfer[[column]])"
      ],
      "metadata": {
        "id": "JImYNI4QLay_"
      },
      "execution_count": 48,
      "outputs": []
    },
    {
      "cell_type": "markdown",
      "source": [
        "# **Logistic Regression**"
      ],
      "metadata": {
        "id": "wMOG6yCWAZ8F"
      }
    },
    {
      "cell_type": "code",
      "source": [
        "def logistic_reg(X, y, test_size=0.30, random_state=123, class_weights=None):\n",
        "    # Applying PCA to reduce the dimensionality of X while preserving 99% of the variance\n",
        "    pca = PCA(0.99)\n",
        "    X_pca = pca.fit_transform(X)\n",
        "\n",
        "    # Spliting the data into training and testing sets\n",
        "    X_train, X_test, y_train, y_test = train_test_split(X_pca, y, test_size=test_size, random_state=random_state)\n",
        "\n",
        "    # Calculating the class imbalance ratio for class weights\n",
        "    imbalance_ratio = (len(y_train[y_train == 0]) / len(y_train[y_train == 1]))\n",
        "\n",
        "    # If class_weights is not specified, use default values\n",
        "    if class_weights is None:\n",
        "        class_weights = {0: 1.0, 1: imbalance_ratio}\n",
        "\n",
        "    # Creating and training the logistic regression model with class weights\n",
        "    model = LogisticRegression(class_weight=class_weights, random_state=random_state)\n",
        "    model.fit(X_train, y_train)\n",
        "\n",
        "    # Making predictions on the test set\n",
        "    y_pred = model.predict(X_test)\n",
        "\n",
        "    # Evaluating the model's performance\n",
        "    accuracy = accuracy_score(y_test, y_pred)\n",
        "    precision = precision_score(y_test, y_pred)\n",
        "    recall = recall_score(y_test, y_pred)\n",
        "    f1 = f1_score(y_test, y_pred)\n",
        "    roc_auc = roc_auc_score(y_test, model.predict_proba(X_test)[:, 1])\n",
        "    auprc = average_precision_score(y_test, model.predict_proba(X_test)[:, 1])  # Calculate AUPRC score\n",
        "\n",
        "    # Calculating the confusion matrix\n",
        "    cm = confusion_matrix(y_test, y_pred)\n",
        "\n",
        "    print(\"Accuracy:\", accuracy)\n",
        "    print(\"Precision:\", precision)\n",
        "    print(\"Recall:\", recall)\n",
        "    print(\"F1 Score:\", f1)\n",
        "    print(\"ROC AUC Score:\", roc_auc)\n",
        "    print(\"AUPRC Score:\", auprc)\n",
        "    print(\"Confusion Matrix:\")\n",
        "    print(cm)\n"
      ],
      "metadata": {
        "id": "dzDDWyGVATDI"
      },
      "execution_count": 50,
      "outputs": []
    },
    {
      "cell_type": "code",
      "source": [
        "logistic_reg(cash_out.drop('isFraud',axis=1),cash_out['isFraud'],class_weights = {0: 1.0, 1:300})"
      ],
      "metadata": {
        "colab": {
          "base_uri": "https://localhost:8080/"
        },
        "id": "c08OF_PyATIA",
        "outputId": "d715dfbc-11da-47f6-f4f8-e5f7940751ff"
      },
      "execution_count": 15,
      "outputs": [
        {
          "output_type": "stream",
          "name": "stdout",
          "text": [
            "Accuracy: 0.972\n",
            "Precision: 0.06168214963540106\n",
            "Recall: 0.9935639581657281\n",
            "F1 Score: 0.116153303550435\n",
            "ROC AUC Score: 0.9929760547007697\n",
            "AUPRC Score: 0.7017662708952813\n",
            "Confusion Matrix:\n",
            "[[651220  18787]\n",
            " [     8   1235]]\n"
          ]
        }
      ]
    },
    {
      "cell_type": "code",
      "source": [
        "logistic_reg(transfer.drop('isFraud',axis=1),transfer['isFraud'])"
      ],
      "metadata": {
        "colab": {
          "base_uri": "https://localhost:8080/"
        },
        "id": "imAYRz-0ATLN",
        "outputId": "94bc57cc-db92-4c4d-ba29-93db1c90e05e"
      },
      "execution_count": 16,
      "outputs": [
        {
          "output_type": "stream",
          "name": "stdout",
          "text": [
            "Accuracy: 0.969163023149625\n",
            "Precision: 0.20207253886010362\n",
            "Recall: 0.9984\n",
            "F1 Score: 0.33611634796660383\n",
            "ROC AUC Score: 0.9981359525415608\n",
            "AUPRC Score: 0.8981801992649923\n",
            "Confusion Matrix:\n",
            "[[153695   4928]\n",
            " [     2   1248]]\n"
          ]
        }
      ]
    },
    {
      "cell_type": "code",
      "source": [],
      "metadata": {
        "id": "ivD0z8yzATRa"
      },
      "execution_count": 16,
      "outputs": []
    },
    {
      "cell_type": "markdown",
      "source": [
        "# **Random Forest**"
      ],
      "metadata": {
        "id": "qI9zHbLQAzuG"
      }
    },
    {
      "cell_type": "code",
      "source": [
        "\n",
        "def random_forest(X, y, test_size=0.30, random_state=123, class_weights=None):\n",
        "    # Applying PCA to reduce the dimensionality of X while preserving 99% of the variance\n",
        "    pca = PCA(0.99)\n",
        "    X_pca = pca.fit_transform(X)\n",
        "\n",
        "    # Spliting the data into training and testing sets\n",
        "    X_train, X_test, y_train, y_test = train_test_split(X_pca, y, test_size=test_size, random_state=random_state)\n",
        "\n",
        "    # Calculating the class imbalance ratio for class weights\n",
        "    imbalance_ratio = (len(y_train[y_train == 0]) / len(y_train[y_train == 1]))\n",
        "\n",
        "    # If class_weights is not specified, use default values\n",
        "    if class_weights is None:\n",
        "        class_weights = {0: 1.0, 1: imbalance_ratio}\n",
        "\n",
        "    # Creating and training the Random Forest classifier with class weights\n",
        "    model = RandomForestClassifier(class_weight=class_weights, random_state=random_state)\n",
        "    model.fit(X_train, y_train)\n",
        "\n",
        "    # Making predictions on the test set\n",
        "    y_pred = model.predict(X_test)\n",
        "\n",
        "    # Evaluating the model's performance\n",
        "    accuracy = accuracy_score(y_test, y_pred)\n",
        "    precision = precision_score(y_test, y_pred)\n",
        "    recall = recall_score(y_test, y_pred)\n",
        "    f1 = f1_score(y_test, y_pred)\n",
        "    roc_auc = roc_auc_score(y_test, model.predict_proba(X_test)[:, 1])\n",
        "    auprc = average_precision_score(y_test, model.predict_proba(X_test)[:, 1])  # Calculate AUPRC score\n",
        "\n",
        "    # Calculating the confusion matrix\n",
        "    cm = confusion_matrix(y_test, y_pred)\n",
        "\n",
        "    print(\"Accuracy:\", accuracy)\n",
        "    print(\"Precision:\", precision)\n",
        "    print(\"Recall:\", recall)\n",
        "    print(\"F1 Score:\", f1)\n",
        "    print(\"ROC AUC Score:\", roc_auc)\n",
        "    print(\"AUPRC Score:\", auprc)\n",
        "    print(\"Confusion Matrix:\")\n",
        "    print(cm)\n",
        "\n",
        "\n",
        "    # Geting the parameters used by the RandomForestClassifier\n",
        "    params = model.get_params()\n",
        "\n",
        "    print(\"\\nParameters currently in use:\")\n",
        "    pprint(params)\n"
      ],
      "metadata": {
        "id": "qP5eIKtEkqI6"
      },
      "execution_count": 7,
      "outputs": []
    },
    {
      "cell_type": "code",
      "source": [
        "random_forest(cash_out.drop('isFraud',axis=1),cash_out['isFraud'])"
      ],
      "metadata": {
        "id": "oqcwamwMkthy",
        "colab": {
          "base_uri": "https://localhost:8080/"
        },
        "outputId": "c1a5d769-0923-4016-b7c9-f536584d8995"
      },
      "execution_count": 8,
      "outputs": [
        {
          "output_type": "stream",
          "name": "stdout",
          "text": [
            "Accuracy: 0.9991567970204842\n",
            "Precision: 0.8922363847045192\n",
            "Recall: 0.6194690265486725\n",
            "F1 Score: 0.7312440645773979\n",
            "ROC AUC Score: 0.9813439936190866\n",
            "AUPRC Score: 0.8289900753800161\n",
            "Confusion Matrix:\n",
            "[[669914     93]\n",
            " [   473    770]]\n",
            "\n",
            "Parameters currently in use:\n",
            "{'bootstrap': True,\n",
            " 'ccp_alpha': 0.0,\n",
            " 'class_weight': {0: 1.0, 1: 544.1618517229377},\n",
            " 'criterion': 'gini',\n",
            " 'max_depth': None,\n",
            " 'max_features': 'sqrt',\n",
            " 'max_leaf_nodes': None,\n",
            " 'max_samples': None,\n",
            " 'min_impurity_decrease': 0.0,\n",
            " 'min_samples_leaf': 1,\n",
            " 'min_samples_split': 2,\n",
            " 'min_weight_fraction_leaf': 0.0,\n",
            " 'n_estimators': 100,\n",
            " 'n_jobs': None,\n",
            " 'oob_score': False,\n",
            " 'random_state': 123,\n",
            " 'verbose': 0,\n",
            " 'warm_start': False}\n"
          ]
        }
      ]
    },
    {
      "cell_type": "code",
      "source": [
        "  random_forest(cash_out.drop('isFraud',axis=1),cash_out['isFraud'],class_weights = {0: 1.0, 1: 100})"
      ],
      "metadata": {
        "colab": {
          "base_uri": "https://localhost:8080/"
        },
        "id": "EKeFFTZZxekC",
        "outputId": "173e047a-d914-4998-fd35-db652655fe8b"
      },
      "execution_count": 9,
      "outputs": [
        {
          "output_type": "stream",
          "name": "stdout",
          "text": [
            "Accuracy: 0.9991761638733706\n",
            "Precision: 0.9039812646370023\n",
            "Recall: 0.6210780370072405\n",
            "F1 Score: 0.7362899380066762\n",
            "ROC AUC Score: 0.9809334564882687\n",
            "AUPRC Score: 0.8263855787097437\n",
            "Confusion Matrix:\n",
            "[[669925     82]\n",
            " [   471    772]]\n",
            "\n",
            "Parameters currently in use:\n",
            "{'bootstrap': True,\n",
            " 'ccp_alpha': 0.0,\n",
            " 'class_weight': {0: 1.0, 1: 100},\n",
            " 'criterion': 'gini',\n",
            " 'max_depth': None,\n",
            " 'max_features': 'sqrt',\n",
            " 'max_leaf_nodes': None,\n",
            " 'max_samples': None,\n",
            " 'min_impurity_decrease': 0.0,\n",
            " 'min_samples_leaf': 1,\n",
            " 'min_samples_split': 2,\n",
            " 'min_weight_fraction_leaf': 0.0,\n",
            " 'n_estimators': 100,\n",
            " 'n_jobs': None,\n",
            " 'oob_score': False,\n",
            " 'random_state': 123,\n",
            " 'verbose': 0,\n",
            " 'warm_start': False}\n"
          ]
        }
      ]
    },
    {
      "cell_type": "markdown",
      "source": [],
      "metadata": {
        "id": "VJtdsNmxBIki"
      }
    },
    {
      "cell_type": "markdown",
      "source": [
        "# **AdaBoostClassifier**"
      ],
      "metadata": {
        "id": "Dxf27rI3A72s"
      }
    },
    {
      "cell_type": "code",
      "source": [
        "def adaboost_model(X, y, test_size=0.30, random_state=123, n_estimators=50, learning_rate=1.0, class_weights=None):\n",
        "    # Appling PCA to reduce the dimensionality of X while preserving 99% of the variance\n",
        "    pca = PCA(0.99)\n",
        "    X_pca = pca.fit_transform(X)\n",
        "\n",
        "    # Spliting the data into training and testing sets\n",
        "    X_train, X_test, y_train, y_test = train_test_split(X_pca, y, test_size=test_size, random_state=random_state)\n",
        "\n",
        "    # Calculating the class imbalance ratio for class weights\n",
        "    imbalance_ratio = len(y_train[y_train == 0]) / len(y_train[y_train == 1])\n",
        "\n",
        "    # If class_weights is not specified, use default values (equal class weights)\n",
        "    if class_weights is None:\n",
        "        class_weights = {0: 1.0, 1: imbalance_ratio}\n",
        "\n",
        "    #class_weights[1] *= imbalance_ratio\n",
        "\n",
        "    # Creating and training the AdaBoost classifier with Logistic Regression as base estimator and class weights\n",
        "    base_estimator = LogisticRegression(class_weight=class_weights, random_state=random_state)\n",
        "    model = AdaBoostClassifier(base_estimator=base_estimator, n_estimators=n_estimators, learning_rate=learning_rate, random_state=random_state)\n",
        "    model.fit(X_train, y_train)\n",
        "\n",
        "    # Geting the parameters used by the AdaBoostClassifier\n",
        "    params = model.get_params()\n",
        "\n",
        "    print(\"\\nParameters currently in use:\")\n",
        "    pprint(params)\n",
        "\n",
        "    # Making predictions on the test set\n",
        "    y_pred = model.predict(X_test)\n",
        "\n",
        "    # Evaluating the model's performance\n",
        "    accuracy = accuracy_score(y_test, y_pred)\n",
        "    precision = precision_score(y_test, y_pred)\n",
        "    recall = recall_score(y_test, y_pred)\n",
        "    f1 = f1_score(y_test, y_pred)\n",
        "    roc_auc = roc_auc_score(y_test, model.predict_proba(X_test)[:, 1])\n",
        "    auprc = average_precision_score(y_test, model.predict_proba(X_test)[:, 1])  # Calculate AUPRC score\n",
        "\n",
        "    # Calculating the confusion matrix\n",
        "    cm = confusion_matrix(y_test, y_pred)\n",
        "\n",
        "    print(\"\\nModel Evaluation:\")\n",
        "    print(\"Accuracy:\", accuracy)\n",
        "    print(\"Precision:\", precision)\n",
        "    print(\"Recall:\", recall)\n",
        "    print(\"F1 Score:\", f1)\n",
        "    print(\"ROC AUC Score:\", roc_auc)\n",
        "    print(\"AUPRC Score:\", auprc)\n",
        "    print(\"Confusion Matrix:\")\n",
        "    print(cm)\n",
        "\n"
      ],
      "metadata": {
        "id": "xhLGywDa5hp8"
      },
      "execution_count": 52,
      "outputs": []
    },
    {
      "cell_type": "code",
      "source": [
        "  adaboost_model(transfer.drop('isFraud',axis=1),transfer['isFraud'])"
      ],
      "metadata": {
        "colab": {
          "base_uri": "https://localhost:8080/"
        },
        "id": "rPQzq21h87G-",
        "outputId": "741d5b33-e088-42c1-9bfc-271d02fe4bb5"
      },
      "execution_count": 7,
      "outputs": [
        {
          "output_type": "stream",
          "name": "stdout",
          "text": [
            "\n",
            "Parameters currently in use:\n",
            "{'algorithm': 'SAMME.R',\n",
            " 'base_estimator': LogisticRegression(class_weight={0: 1.0, 1: 130.02774850720056},\n",
            "                   random_state=123),\n",
            " 'base_estimator__C': 1.0,\n",
            " 'base_estimator__class_weight': {0: 1.0, 1: 130.02774850720056},\n",
            " 'base_estimator__dual': False,\n",
            " 'base_estimator__fit_intercept': True,\n",
            " 'base_estimator__intercept_scaling': 1,\n",
            " 'base_estimator__l1_ratio': None,\n",
            " 'base_estimator__max_iter': 100,\n",
            " 'base_estimator__multi_class': 'auto',\n",
            " 'base_estimator__n_jobs': None,\n",
            " 'base_estimator__penalty': 'l2',\n",
            " 'base_estimator__random_state': 123,\n",
            " 'base_estimator__solver': 'lbfgs',\n",
            " 'base_estimator__tol': 0.0001,\n",
            " 'base_estimator__verbose': 0,\n",
            " 'base_estimator__warm_start': False,\n",
            " 'estimator': None,\n",
            " 'learning_rate': 1.0,\n",
            " 'n_estimators': 50,\n",
            " 'random_state': 123}\n",
            "\n",
            "Model Evaluation:\n",
            "Accuracy: 0.9052060072682692\n",
            "Precision: 0.07593778591033852\n",
            "Recall: 0.996\n",
            "F1 Score: 0.14111646358741853\n",
            "ROC AUC Score: 0.9939141990757959\n",
            "AUPRC Score: 0.6956102168084349\n",
            "Confusion Matrix:\n",
            "[[143473  15150]\n",
            " [     5   1245]]\n"
          ]
        }
      ]
    },
    {
      "cell_type": "code",
      "source": [
        "  adaboost_model(cash_out.drop('isFraud',axis=1),cash_out['isFraud'])"
      ],
      "metadata": {
        "colab": {
          "base_uri": "https://localhost:8080/"
        },
        "id": "OZHPATZ68RwZ",
        "outputId": "c2734db7-5111-4324-d4a9-5d714a2ddf2d"
      },
      "execution_count": 8,
      "outputs": [
        {
          "output_type": "stream",
          "name": "stdout",
          "text": [
            "\n",
            "Parameters currently in use:\n",
            "{'algorithm': 'SAMME.R',\n",
            " 'base_estimator': LogisticRegression(class_weight={0: 1.0, 1: 544.1618517229377},\n",
            "                   random_state=123),\n",
            " 'base_estimator__C': 1.0,\n",
            " 'base_estimator__class_weight': {0: 1.0, 1: 544.1618517229377},\n",
            " 'base_estimator__dual': False,\n",
            " 'base_estimator__fit_intercept': True,\n",
            " 'base_estimator__intercept_scaling': 1,\n",
            " 'base_estimator__l1_ratio': None,\n",
            " 'base_estimator__max_iter': 100,\n",
            " 'base_estimator__multi_class': 'auto',\n",
            " 'base_estimator__n_jobs': None,\n",
            " 'base_estimator__penalty': 'l2',\n",
            " 'base_estimator__random_state': 123,\n",
            " 'base_estimator__solver': 'lbfgs',\n",
            " 'base_estimator__tol': 0.0001,\n",
            " 'base_estimator__verbose': 0,\n",
            " 'base_estimator__warm_start': False,\n",
            " 'estimator': None,\n",
            " 'learning_rate': 1.0,\n",
            " 'n_estimators': 50,\n",
            " 'random_state': 123}\n",
            "\n",
            "Model Evaluation:\n",
            "Accuracy: 0.9590003724394786\n",
            "Precision: 0.03758710494826494\n",
            "Recall: 0.8592115848753017\n",
            "F1 Score: 0.07202346832113835\n",
            "ROC AUC Score: 0.9802664613795697\n",
            "AUPRC Score: 0.5682806749048909\n",
            "Confusion Matrix:\n",
            "[[642661  27346]\n",
            " [   175   1068]]\n"
          ]
        }
      ]
    },
    {
      "cell_type": "markdown",
      "source": [
        "## **Conclusion**\n",
        "\n",
        "In this project, I developed a logistic regression model to predict fraudulent transactions in a financial company. The dataset contained five transaction categories, with three categories having no fraud cases. To handle the imbalanced data, I used Class Weighting, giving higher importance to the minority class (fraudulent transactions) to reduce bias.\n",
        "\n",
        "The model results were promising, meeting the expectations. The primary objective was to accurately identify fraudulent transactions, so mainly focused on minimizing false positives (FP) rather than false negatives (FN). Although FN cases might lead to investigations of non-fraudulent transactions, we prioritized reducing FP cases to prevent financial losses for the bank and its customers.\n",
        "\n",
        "My approach aimed to strike a balance between accurate fraud detection and minimizing the risk of wrongly flagging legitimate transactions. This strategy aligned with the commitment to protecting the interests of the bank and its clients while maintaining efficient and reliable fraud detection capabilities.After the logistic regression, I built random forest and AdaBoost classifiers.\n",
        "\n",
        " The random forest provided moderate results, with up to 400 false positive cases. On the other hand, AdaBoost yielded 0 false positive cases for transfer transactions and up to 175 for cash-out transactions. However, both models had a high number of false negatives, which could be time-consuming to investigate.Despite the high false negatives, the logistic regression model correctly identified more than 600 cases of fraud, with less than 10 false positive cases.\n",
        "\n",
        " This outcome reflects the primary goal of accurately detecting fraud cases, even at the expense of false negatives.Moving forward, we need more data to build personalized models for each user. Doing so could enhance the classification accuracy and better handle false negatives. This approach would enable to provide a more comprehensive fraud detection system, ensuring the correct identification of fraudulent activities while minimizing false alerts for legitimate transactions.\n",
        "\n",
        "\n"
      ],
      "metadata": {
        "id": "co9_AnwxFbZd"
      }
    },
    {
      "cell_type": "markdown",
      "source": [
        "## **Candidate Expectations**\n",
        "Your task is to execute the process for proactive detection of fraud while answering following\n",
        "questions.\n",
        "1. Data cleaning including missing values, outliers, and multi-collinearity?\n",
        "\n",
        "   There are zero missing values and we can't rule out the outliers because we\n",
        "   are not building a model for one customer and we don't have enough information\n",
        "   to which set customer this data belonged and for multi-collinearity, we used PCA which helped combine correlated features into orthogonal components, reducing dimensionality while preserving important information.\n",
        "----------------------------------------------------------------------------\n",
        "2. Describe your fraud detection model in elaboration?\n",
        "----------------------------------------------------------------------------\n",
        "3. How did you select variables to be included in the model?\n",
        "   Among the columns mentioned (\"step,\" \"nameOrig,\" and \"nameDest\"), the \"step\" column is significant due to its unique values, while \"nameOrig\" and \"nameDest\" are less significant compared to other columns. However, if we develop a model for each user, these columns can become more relevant for data filtering.\n",
        "\n",
        "   The \"step\" column, being composed of unique values, is likely to provide valuable temporal information, enabling the model to capture time-dependent patterns in the data. Building individual models for each user allows us to consider user-specific behavior and preferences, which can further enhance the model's accuracy and effectiveness.\n",
        "\n",
        "   While \"nameOrig\" and \"nameDest\" may be less significant overall, they can become more relevant when analyzing data at the user level. These columns likely represent user identifiers or account names, and understanding transaction patterns associated with specific users can aid in detecting anomalies and identifying potentially fraudulent activities unique to each user.\n",
        "----------------------------------------------------------------------------\n",
        "4. Demonstrate the performance of the model by using the best set of tools?\n",
        "\n",
        "   The model results were promising, meeting the expectations. The primary objective was to accurately identify fraudulent transactions, so mainly focused on minimizing false positives (FP) rather than false negatives (FN). Although FN cases might lead to investigations of non-fraudulent transactions, we prioritized reducing FP cases to prevent financial losses for the bank and its customers.\n",
        "----------------------------------------------------------------------------  \n",
        "5. What are the key factors that predict fraudulent customers?\n",
        "   \n",
        "   Unusual Transactions Large or irregular transactions that deviate significantly from a customer's normal behavior may signal potential fraud.\n",
        "   A sudden increase in account activity, such as frequent logins, and multiple transactions in a short period, may indicate fraud and more\n",
        "----------------------------------------------------------------------------\n",
        "6. Do these factors make sense? If yes, How? If not, How not?\n",
        "\n",
        "   Yes, the factors make sense for detecting fraudulent customers. Unusual transactions and rapid account activity are typical red flags for fraud. Fraudsters often attempt to make large or irregular transactions to avoid detection, and sudden increases in account activity may indicate fraudulent behavior. By identifying these unusual patterns, the model can effectively detect potential fraudulent customers.\n",
        "----------------------------------------------------------------------------\n",
        "7. What kind of prevention should be adopted while the company updates its infrastructure?\n",
        "   \n",
        "   Utilize strong authentication methods such as multi-factor authentication to prevent unauthorized access to customer accounts.\n",
        "   Implement real-time monitoring and alert systems to detect suspicious activities promptly.\n",
        "   Conduct regular security audits to identify vulnerabilities and weaknesses in the system.\n",
        "   Train employees on fraud prevention and cybersecurity best practices to prevent internal security breaches.\n",
        "   \n",
        "----------------------------------------------------------------------------\n",
        "8. Assuming these actions have been implemented, how would you determine if they work?\n",
        "   \n",
        "   Monitor the number of detected fraudulent incidents over time and compare it to the previous period before implementing the prevention measures. A decrease in fraudulent incidents indicates improved prevention.\n",
        "   Assess the false positive rate of the fraud detection model. A lower false positive rate implies that the model is accurately identifying genuine transactions and reducing the number of false alarms.\n",
        "   Gather feedback from customers regarding their experiences with the updated infrastructure and fraud prevention measures. Satisfied customers and fewer complaints related to fraudulent activities may indicate effective prevention."
      ],
      "metadata": {
        "id": "iFXpHQsAHWR9"
      }
    },
    {
      "cell_type": "code",
      "source": [],
      "metadata": {
        "id": "qPO9bClDY19H"
      },
      "execution_count": null,
      "outputs": []
    },
    {
      "cell_type": "code",
      "source": [],
      "metadata": {
        "id": "wE0ZFb3p2fAf"
      },
      "execution_count": null,
      "outputs": []
    },
    {
      "cell_type": "code",
      "source": [],
      "metadata": {
        "id": "Ocf6i4Ea2l3u"
      },
      "execution_count": null,
      "outputs": []
    }
  ]
}